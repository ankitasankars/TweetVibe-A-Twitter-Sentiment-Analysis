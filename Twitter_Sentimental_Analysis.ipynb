{
  "nbformat": 4,
  "nbformat_minor": 0,
  "metadata": {
    "colab": {
      "name": "Twitter Sentimental Analysis.ipynb",
      "provenance": [],
      "collapsed_sections": []
    },
    "kernelspec": {
      "name": "python3",
      "display_name": "Python 3"
    },
    "language_info": {
      "name": "python"
    }
  },
  "cells": [
    {
      "cell_type": "code",
      "metadata": {
        "colab": {
          "base_uri": "https://localhost:8080/"
        },
        "id": "9XBnBISwBdER",
        "outputId": "e2c80ee0-71a8-48ca-a429-4950ac8e184e"
      },
      "source": [
        "!pip install textblob\n",
        "!pip install tweepy\n",
        "!pip install pycountry\n",
        "!pip install langdetect"
      ],
      "execution_count": 1,
      "outputs": [
        {
          "output_type": "stream",
          "text": [
            "Requirement already satisfied: textblob in /usr/local/lib/python3.7/dist-packages (0.15.3)\n",
            "Requirement already satisfied: nltk>=3.1 in /usr/local/lib/python3.7/dist-packages (from textblob) (3.2.5)\n",
            "Requirement already satisfied: six in /usr/local/lib/python3.7/dist-packages (from nltk>=3.1->textblob) (1.15.0)\n",
            "Requirement already satisfied: tweepy in /usr/local/lib/python3.7/dist-packages (3.10.0)\n",
            "Requirement already satisfied: six>=1.10.0 in /usr/local/lib/python3.7/dist-packages (from tweepy) (1.15.0)\n",
            "Requirement already satisfied: requests[socks]>=2.11.1 in /usr/local/lib/python3.7/dist-packages (from tweepy) (2.23.0)\n",
            "Requirement already satisfied: requests-oauthlib>=0.7.0 in /usr/local/lib/python3.7/dist-packages (from tweepy) (1.3.0)\n",
            "Requirement already satisfied: idna<3,>=2.5 in /usr/local/lib/python3.7/dist-packages (from requests[socks]>=2.11.1->tweepy) (2.10)\n",
            "Requirement already satisfied: chardet<4,>=3.0.2 in /usr/local/lib/python3.7/dist-packages (from requests[socks]>=2.11.1->tweepy) (3.0.4)\n",
            "Requirement already satisfied: urllib3!=1.25.0,!=1.25.1,<1.26,>=1.21.1 in /usr/local/lib/python3.7/dist-packages (from requests[socks]>=2.11.1->tweepy) (1.24.3)\n",
            "Requirement already satisfied: certifi>=2017.4.17 in /usr/local/lib/python3.7/dist-packages (from requests[socks]>=2.11.1->tweepy) (2021.5.30)\n",
            "Requirement already satisfied: PySocks!=1.5.7,>=1.5.6; extra == \"socks\" in /usr/local/lib/python3.7/dist-packages (from requests[socks]>=2.11.1->tweepy) (1.7.1)\n",
            "Requirement already satisfied: oauthlib>=3.0.0 in /usr/local/lib/python3.7/dist-packages (from requests-oauthlib>=0.7.0->tweepy) (3.1.1)\n",
            "Collecting pycountry\n",
            "\u001b[?25l  Downloading https://files.pythonhosted.org/packages/76/73/6f1a412f14f68c273feea29a6ea9b9f1e268177d32e0e69ad6790d306312/pycountry-20.7.3.tar.gz (10.1MB)\n",
            "\u001b[K     |████████████████████████████████| 10.1MB 6.9MB/s \n",
            "\u001b[?25hBuilding wheels for collected packages: pycountry\n",
            "  Building wheel for pycountry (setup.py) ... \u001b[?25l\u001b[?25hdone\n",
            "  Created wheel for pycountry: filename=pycountry-20.7.3-py2.py3-none-any.whl size=10746883 sha256=a1a2aa4da03dec642b3e6264e618c1b8d435ebdeefdb7d92d9ee8edb6691935d\n",
            "  Stored in directory: /root/.cache/pip/wheels/33/4e/a6/be297e6b83567e537bed9df4a93f8590ec01c1acfbcd405348\n",
            "Successfully built pycountry\n",
            "Installing collected packages: pycountry\n",
            "Successfully installed pycountry-20.7.3\n",
            "Collecting langdetect\n",
            "\u001b[?25l  Downloading https://files.pythonhosted.org/packages/0e/72/a3add0e4eec4eb9e2569554f7c70f4a3c27712f40e3284d483e88094cc0e/langdetect-1.0.9.tar.gz (981kB)\n",
            "\u001b[K     |████████████████████████████████| 983kB 6.8MB/s \n",
            "\u001b[?25hRequirement already satisfied: six in /usr/local/lib/python3.7/dist-packages (from langdetect) (1.15.0)\n",
            "Building wheels for collected packages: langdetect\n",
            "  Building wheel for langdetect (setup.py) ... \u001b[?25l\u001b[?25hdone\n",
            "  Created wheel for langdetect: filename=langdetect-1.0.9-cp37-none-any.whl size=993242 sha256=f1c8cff8fad2b4e0a1ab45f48762b6203976af80e433c440ddfed17ede3c8ffa\n",
            "  Stored in directory: /root/.cache/pip/wheels/7e/18/13/038c34057808931c7ddc6c92d3aa015cf1a498df5a70268996\n",
            "Successfully built langdetect\n",
            "Installing collected packages: langdetect\n",
            "Successfully installed langdetect-1.0.9\n"
          ],
          "name": "stdout"
        }
      ]
    },
    {
      "cell_type": "markdown",
      "metadata": {
        "id": "WDCCOhosNsa4"
      },
      "source": [
        "### Importing Libraries"
      ]
    },
    {
      "cell_type": "code",
      "metadata": {
        "colab": {
          "base_uri": "https://localhost:8080/"
        },
        "id": "szVc3kJMCR1e",
        "outputId": "2269e567-9a51-4c79-fb4d-022694cbb731"
      },
      "source": [
        "from textblob import TextBlob\n",
        "import sys\n",
        "import tweepy\n",
        "import matplotlib.pyplot as plt\n",
        "import pandas as pd\n",
        "import numpy as np\n",
        "import os\n",
        "import nltk\n",
        "nltk.download('vader_lexicon')\n",
        "nltk.download('stopwords')\n",
        "import pycountry\n",
        "import re\n",
        "import string\n",
        "\n",
        "from wordcloud import WordCloud, STOPWORDS\n",
        "from PIL import Image\n",
        "from nltk.sentiment.vader import SentimentIntensityAnalyzer\n",
        "from langdetect import detect\n",
        "from nltk.stem import SnowballStemmer\n",
        "from nltk.sentiment.vader import SentimentIntensityAnalyzer\n",
        "from sklearn.feature_extraction.text import CountVectorizer"
      ],
      "execution_count": 2,
      "outputs": [
        {
          "output_type": "stream",
          "text": [
            "[nltk_data] Downloading package vader_lexicon to /root/nltk_data...\n",
            "[nltk_data] Downloading package stopwords to /root/nltk_data...\n",
            "[nltk_data]   Unzipping corpora/stopwords.zip.\n"
          ],
          "name": "stdout"
        },
        {
          "output_type": "stream",
          "text": [
            "/usr/local/lib/python3.7/dist-packages/nltk/twitter/__init__.py:20: UserWarning: The twython library has not been installed. Some functionality from the twitter package will not be available.\n",
            "  warnings.warn(\"The twython library has not been installed. \"\n"
          ],
          "name": "stderr"
        }
      ]
    },
    {
      "cell_type": "markdown",
      "metadata": {
        "id": "fFGakE88YP59"
      },
      "source": [
        "## Authentication for Twitter API\n",
        "\n",
        "\n",
        "> Setting all Twitter API config variables required for authentication with Tweepy.\n",
        "\n"
      ]
    },
    {
      "cell_type": "code",
      "metadata": {
        "id": "_KkeSHFeCRy8"
      },
      "source": [
        "consumerKey = \"qh0PEi9LGbFqrq0bEVx10Eg2d\"\n",
        "consumerSecret = \"hoAuH6TQkhLFSBgV50IlwMbYIgZiRr0l6dz6dZHXWcZu8KRIYx\"\n",
        "accessToken = \"1403975818217357326-dtrPf2smIz8TptyRXpM3faTCV89HN2\"\n",
        "accessTokenSecret = \"9vgGQEW532KDDPOrWsGS89JjGmnoT7nu7rN84az99g2pL\"\n",
        "auth = tweepy.OAuthHandler(consumerKey, consumerSecret)\n",
        "auth.set_access_token(accessToken, accessTokenSecret)\n",
        "api = tweepy.API(auth)"
      ],
      "execution_count": 3,
      "outputs": []
    },
    {
      "cell_type": "markdown",
      "metadata": {
        "id": "96zvh6e7Zt0J"
      },
      "source": [
        "## Getting Tweets With Keyword or Hashtag"
      ]
    },
    {
      "cell_type": "markdown",
      "metadata": {
        "id": "r2D9i7iQZ1x4"
      },
      "source": [
        "### Sentiment Analysis"
      ]
    },
    {
      "cell_type": "code",
      "metadata": {
        "colab": {
          "base_uri": "https://localhost:8080/"
        },
        "id": "ErKeIDTcCRwc",
        "outputId": "a19ca25e-cdf4-4c1d-f18a-17806a530f50"
      },
      "source": [
        "def percentage(part,whole):\n",
        " return 100 * float(part)/float(whole)\n",
        "keyword = input(\"Please enter keyword or hashtag to search: \")\n",
        "noOfTweet = int(input (\"Please enter how many tweets to analyze: \"))\n",
        "tweets = tweepy.Cursor(api.search, q=keyword).items(noOfTweet)\n",
        "positive = 0\n",
        "negative = 0\n",
        "neutral = 0\n",
        "polarity = 0\n",
        "tweet_list = []\n",
        "neutral_list = []\n",
        "negative_list = []\n",
        "positive_list = []\n",
        "for tweet in tweets:\n",
        " \n",
        " #print(tweet.text)\n",
        " tweet_list.append(tweet.text)\n",
        " analysis = TextBlob(tweet.text)\n",
        " score = SentimentIntensityAnalyzer().polarity_scores(tweet.text)\n",
        " neg = score['neg']\n",
        " neu = score['neu']\n",
        " pos = score['pos']\n",
        " comp = score['compound']\n",
        " polarity += analysis.sentiment.polarity\n",
        " \n",
        " if neg > pos:\n",
        "  negative_list.append(tweet.text)\n",
        "  negative += 1\n",
        " elif pos > neg:\n",
        "  positive_list.append(tweet.text)\n",
        "  positive += 1\n",
        " \n",
        " elif pos == neg:\n",
        "  neutral_list.append(tweet.text)\n",
        "  neutral += 1\n",
        "positive = percentage(positive, noOfTweet)\n",
        "negative = percentage(negative, noOfTweet)\n",
        "neutral = percentage(neutral, noOfTweet)\n",
        "polarity = percentage(polarity, noOfTweet)\n",
        "positive = format(positive, '.1f')\n",
        "negative = format(negative, '.1f')\n",
        "neutral = format(neutral, '.1f')"
      ],
      "execution_count": 4,
      "outputs": [
        {
          "output_type": "stream",
          "text": [
            "Please enter keyword or hashtag to search: BTS\n",
            "Please enter how many tweets to analyze: 2500\n"
          ],
          "name": "stdout"
        }
      ]
    },
    {
      "cell_type": "code",
      "metadata": {
        "colab": {
          "base_uri": "https://localhost:8080/"
        },
        "id": "Utc2cIGlCRtl",
        "outputId": "f33d86e1-0fe4-40c3-f758-6c191b93d79d"
      },
      "source": [
        "#Number of Tweets (Total, Positive, Negative, Neutral)\n",
        "tweet_list = pd.DataFrame(tweet_list)\n",
        "neutral_list = pd.DataFrame(neutral_list)\n",
        "negative_list = pd.DataFrame(negative_list)\n",
        "positive_list = pd.DataFrame(positive_list)\n",
        "print(\"total number: \",len(tweet_list))\n",
        "print(\"positive sentiment: \",len(positive_list))\n",
        "print(\"negative sentiment: \", len(negative_list))\n",
        "print(\"neutral sentiment: \",len(neutral_list))"
      ],
      "execution_count": 5,
      "outputs": [
        {
          "output_type": "stream",
          "text": [
            "total number:  2500\n",
            "positive sentiment:  549\n",
            "negative sentiment:  189\n",
            "neutral sentiment:  1762\n"
          ],
          "name": "stdout"
        }
      ]
    },
    {
      "cell_type": "markdown",
      "metadata": {
        "id": "AcCl-i88lk3X"
      },
      "source": [
        "## Creating PieCart"
      ]
    },
    {
      "cell_type": "code",
      "metadata": {
        "colab": {
          "base_uri": "https://localhost:8080/",
          "height": 264
        },
        "id": "oNkChWUUCRps",
        "outputId": "7572b581-24f0-47f6-d0a6-19d69f87b618"
      },
      "source": [
        "labels = ['Positive ['+str(positive)+'%]' , 'Neutral ['+str(neutral)+'%]','Negative ['+str(negative)+'%]']\n",
        "sizes = [positive, neutral, negative]\n",
        "colors = ['yellowgreen', 'purple','yellow']\n",
        "patches, texts = plt.pie(sizes,colors=colors, startangle=90)\n",
        "plt.style.use('default')\n",
        "plt.legend(labels)\n",
        "plt.title(\"Sentiment Analysis Result for keyword = \"+keyword+\"\" )\n",
        "plt.axis('equal')\n",
        "plt.show()"
      ],
      "execution_count": 6,
      "outputs": [
        {
          "output_type": "display_data",
          "data": {
            "image/png": "[encoded data removed]",
            "text/plain": [
              "<Figure size 432x288 with 1 Axes>"
            ]
          },
          "metadata": {
            "tags": []
          }
        }
      ]
    },
    {
      "cell_type": "code",
      "metadata": {
        "colab": {
          "base_uri": "https://localhost:8080/",
          "height": 417
        },
        "id": "3bZLWjW4CRit",
        "outputId": "1c8b9109-b6af-4817-a84f-e3eb84646297"
      },
      "source": [
        "tweet_list"
      ],
      "execution_count": 7,
      "outputs": [
        {
          "output_type": "execute_result",
          "data": {
            "text/html": [
              "<div>\n",
              "<style scoped>\n",
              "    .dataframe tbody tr th:only-of-type {\n",
              "        vertical-align: middle;\n",
              "    }\n",
              "\n",
              "    .dataframe tbody tr th {\n",
              "        vertical-align: top;\n",
              "    }\n",
              "\n",
              "    .dataframe thead th {\n",
              "        text-align: right;\n",
              "    }\n",
              "</style>\n",
              "<table border=\"1\" class=\"dataframe\">\n",
              "  <thead>\n",
              "    <tr style=\"text-align: right;\">\n",
              "      <th></th>\n",
              "      <th>0</th>\n",
              "    </tr>\n",
              "  </thead>\n",
              "  <tbody>\n",
              "    <tr>\n",
              "      <th>0</th>\n",
              "      <td>RT @jimintoday__: [Teaser] BTS X 서울 E-프리 2022 ...</td>\n",
              "    </tr>\n",
              "    <tr>\n",
              "      <th>1</th>\n",
              "      <td>RT @charts_k: [Teaser] #BTS X 서울 E-프리 2022 (SE...</td>\n",
              "    </tr>\n",
              "    <tr>\n",
              "      <th>2</th>\n",
              "      <td>RT @BRILLER__613: [Teaser] BTS X 서울 E-프리 2022 ...</td>\n",
              "    </tr>\n",
              "    <tr>\n",
              "      <th>3</th>\n",
              "      <td>RT @Army_Connect: We crossed 10K total orders🥳...</td>\n",
              "    </tr>\n",
              "    <tr>\n",
              "      <th>4</th>\n",
              "      <td>RT @PJM_data: Emmy Award Winning Comedian John...</td>\n",
              "    </tr>\n",
              "    <tr>\n",
              "      <th>...</th>\n",
              "      <td>...</td>\n",
              "    </tr>\n",
              "    <tr>\n",
              "      <th>2495</th>\n",
              "      <td>RT @ONLY_MOMENT__V: Fila 인스타스토리 (1)\\n\\n#방탄소년단 ...</td>\n",
              "    </tr>\n",
              "    <tr>\n",
              "      <th>2496</th>\n",
              "      <td>RT @NicoMar97: K-Media: \"El Campeonato Mundial...</td>\n",
              "    </tr>\n",
              "    <tr>\n",
              "      <th>2497</th>\n",
              "      <td>@MyMoonJin_SG @BTS_twt ojala que si!!!! pero n...</td>\n",
              "    </tr>\n",
              "    <tr>\n",
              "      <th>2498</th>\n",
              "      <td>RT @BTSsilver_voice: 월와핸과 세일미가 있는 풍경\\n미쳤다 그냥\\n...</td>\n",
              "    </tr>\n",
              "    <tr>\n",
              "      <th>2499</th>\n",
              "      <td>RT @comma_bts: [scan] 소우주 미니포카 드볼 (1)\\nSOWOOZO...</td>\n",
              "    </tr>\n",
              "  </tbody>\n",
              "</table>\n",
              "<p>2500 rows × 1 columns</p>\n",
              "</div>"
            ],
            "text/plain": [
              "                                                      0\n",
              "0     RT @jimintoday__: [Teaser] BTS X 서울 E-프리 2022 ...\n",
              "1     RT @charts_k: [Teaser] #BTS X 서울 E-프리 2022 (SE...\n",
              "2     RT @BRILLER__613: [Teaser] BTS X 서울 E-프리 2022 ...\n",
              "3     RT @Army_Connect: We crossed 10K total orders🥳...\n",
              "4     RT @PJM_data: Emmy Award Winning Comedian John...\n",
              "...                                                 ...\n",
              "2495  RT @ONLY_MOMENT__V: Fila 인스타스토리 (1)\\n\\n#방탄소년단 ...\n",
              "2496  RT @NicoMar97: K-Media: \"El Campeonato Mundial...\n",
              "2497  @MyMoonJin_SG @BTS_twt ojala que si!!!! pero n...\n",
              "2498  RT @BTSsilver_voice: 월와핸과 세일미가 있는 풍경\\n미쳤다 그냥\\n...\n",
              "2499  RT @comma_bts: [scan] 소우주 미니포카 드볼 (1)\\nSOWOOZO...\n",
              "\n",
              "[2500 rows x 1 columns]"
            ]
          },
          "metadata": {
            "tags": []
          },
          "execution_count": 7
        }
      ]
    },
    {
      "cell_type": "markdown",
      "metadata": {
        "id": "rOAQpZ66nRx2"
      },
      "source": [
        "## Cleaning Tweets to Analyse Sentiment"
      ]
    },
    {
      "cell_type": "code",
      "metadata": {
        "id": "rmSpQjHCnUTM"
      },
      "source": [
        "tweet_list.drop_duplicates(inplace = True)"
      ],
      "execution_count": 8,
      "outputs": []
    },
    {
      "cell_type": "markdown",
      "metadata": {
        "id": "VZmp9KujngD2"
      },
      "source": [
        "### Cleaning Text (RT, Punctuation etc), Creating new dataframe and new features, Removing RT, Punctuation etc"
      ]
    },
    {
      "cell_type": "markdown",
      "metadata": {
        "id": "yUkM2CoFDMme"
      },
      "source": [
        "\n",
        "\n",
        "> Before starting the sentiment analysis it is a good idea to clean up each tweets from an unnecessary data first.\n",
        "\n",
        "\n",
        "1. To remove mentions\n",
        "2. To remove hashtags\n",
        "3. To remove retweets\n",
        "4. To remove urls\n",
        "\n"
      ]
    },
    {
      "cell_type": "code",
      "metadata": {
        "colab": {
          "base_uri": "https://localhost:8080/",
          "height": 357
        },
        "id": "2kXGeLOfnUQ-",
        "outputId": "4ad10f78-0d9e-4350-caa7-24c15354056d"
      },
      "source": [
        "tw_list = pd.DataFrame(tweet_list)\n",
        "tw_list[\"text\"] = tw_list[0]\n",
        "\n",
        "remove_rt = lambda x: re.sub('RT @\\w+: ',\" \",x)\n",
        "rt = lambda x: re.sub(\"(@[A-Za-z0–9]+)|([-⁰9A-Za-z \\t])|(\\w+:\\/\\/\\S+)\",\" \",x)\n",
        "tw_list[\"text\"] = tw_list.text.map(remove_rt).map(rt)\n",
        "tw_list[\"text\"] = tw_list.text.str.lower()\n",
        "tw_list.head(10)"
      ],
      "execution_count": 9,
      "outputs": [
        {
          "output_type": "execute_result",
          "data": {
            "text/html": [
              "<div>\n",
              "<style scoped>\n",
              "    .dataframe tbody tr th:only-of-type {\n",
              "        vertical-align: middle;\n",
              "    }\n",
              "\n",
              "    .dataframe tbody tr th {\n",
              "        vertical-align: top;\n",
              "    }\n",
              "\n",
              "    .dataframe thead th {\n",
              "        text-align: right;\n",
              "    }\n",
              "</style>\n",
              "<table border=\"1\" class=\"dataframe\">\n",
              "  <thead>\n",
              "    <tr style=\"text-align: right;\">\n",
              "      <th></th>\n",
              "      <th>0</th>\n",
              "      <th>text</th>\n",
              "    </tr>\n",
              "  </thead>\n",
              "  <tbody>\n",
              "    <tr>\n",
              "      <th>0</th>\n",
              "      <td>RT @jimintoday__: [Teaser] BTS X 서울 E-프리 2022 ...</td>\n",
              "      <td>[      ]       서울   프리 2022 (             202...</td>\n",
              "    </tr>\n",
              "    <tr>\n",
              "      <th>1</th>\n",
              "      <td>RT @charts_k: [Teaser] #BTS X 서울 E-프리 2022 (SE...</td>\n",
              "      <td>[      ] #      서울   프리 2022 (             20...</td>\n",
              "    </tr>\n",
              "    <tr>\n",
              "      <th>2</th>\n",
              "      <td>RT @BRILLER__613: [Teaser] BTS X 서울 E-프리 2022 ...</td>\n",
              "      <td>[      ]       서울   프리 2022 (             202...</td>\n",
              "    </tr>\n",
              "    <tr>\n",
              "      <th>3</th>\n",
              "      <td>RT @Army_Connect: We crossed 10K total orders🥳...</td>\n",
              "      <td>10              🥳🎉🥳\\n\\n⏰∼2        ...</td>\n",
              "    </tr>\n",
              "    <tr>\n",
              "      <th>4</th>\n",
              "      <td>RT @PJM_data: Emmy Award Winning Comedian John...</td>\n",
              "      <td>,     ...</td>\n",
              "    </tr>\n",
              "    <tr>\n",
              "      <th>5</th>\n",
              "      <td>RT @ARMYTEAMIID: [🎥]\\n\\nBTS x SMASH APP\\n#방탄소년...</td>\n",
              "      <td>[🎥]\\n\\n               \\n#방탄소년단 #     _       ...</td>\n",
              "    </tr>\n",
              "    <tr>\n",
              "      <th>6</th>\n",
              "      <td>RT @bts_bighit: Are you all excited for #BTS_B...</td>\n",
              "      <td>#   _                ...</td>\n",
              "    </tr>\n",
              "    <tr>\n",
              "      <th>7</th>\n",
              "      <td>RT @allangyi: 달다구리솜 @_thal_0 님카페 놀러왔어요^^ \\n예쁜 ...</td>\n",
              "      <td>달다구리솜 @_    _0 님카페 놀러왔어요^^ \\n예쁜 컵홀더랑 선물도 받고 귀...</td>\n",
              "    </tr>\n",
              "    <tr>\n",
              "      <th>8</th>\n",
              "      <td>RT @bts_nanak: SONGS 방탄 멘트\\n#방탄소년단 #BTS @BTS_t...</td>\n",
              "      <td>방탄 멘트\\n#방탄소년단 #     _         :// .  / ...</td>\n",
              "    </tr>\n",
              "    <tr>\n",
              "      <th>9</th>\n",
              "      <td>RT @sunflowercharts: ✅ 364.76 ล้านวิว\\n\\nเป้าห...</td>\n",
              "      <td>✅ 364.76 ล้านวิว\\n\\nเป้าหมายต่อไป: 400 ล้านวิ...</td>\n",
              "    </tr>\n",
              "  </tbody>\n",
              "</table>\n",
              "</div>"
            ],
            "text/plain": [
              "                                                   0                                               text\n",
              "0  RT @jimintoday__: [Teaser] BTS X 서울 E-프리 2022 ...   [      ]       서울   프리 2022 (             202...\n",
              "1  RT @charts_k: [Teaser] #BTS X 서울 E-프리 2022 (SE...   [      ] #      서울   프리 2022 (             20...\n",
              "2  RT @BRILLER__613: [Teaser] BTS X 서울 E-프리 2022 ...   [      ]       서울   프리 2022 (             202...\n",
              "3  RT @Army_Connect: We crossed 10K total orders🥳...              10              🥳🎉🥳\\n\\n⏰∼2        ...\n",
              "4  RT @PJM_data: Emmy Award Winning Comedian John...                                          ,     ...\n",
              "5  RT @ARMYTEAMIID: [🎥]\\n\\nBTS x SMASH APP\\n#방탄소년...   [🎥]\\n\\n               \\n#방탄소년단 #     _       ...\n",
              "6  RT @bts_bighit: Are you all excited for #BTS_B...                           #   _                ...\n",
              "7  RT @allangyi: 달다구리솜 @_thal_0 님카페 놀러왔어요^^ \\n예쁜 ...   달다구리솜 @_    _0 님카페 놀러왔어요^^ \\n예쁜 컵홀더랑 선물도 받고 귀...\n",
              "8  RT @bts_nanak: SONGS 방탄 멘트\\n#방탄소년단 #BTS @BTS_t...         방탄 멘트\\n#방탄소년단 #     _         :// .  / ...\n",
              "9  RT @sunflowercharts: ✅ 364.76 ล้านวิว\\n\\nเป้าห...   ✅ 364.76 ล้านวิว\\n\\nเป้าหมายต่อไป: 400 ล้านวิ..."
            ]
          },
          "metadata": {
            "tags": []
          },
          "execution_count": 9
        }
      ]
    },
    {
      "cell_type": "markdown",
      "metadata": {
        "id": "SVUB-fOGoYgn"
      },
      "source": [
        "## Sentiment Analysis\n",
        "\n",
        "\n",
        "> Calculating Negative, Positive, Neutral and Compound values\n",
        "\n"
      ]
    },
    {
      "cell_type": "code",
      "metadata": {
        "colab": {
          "base_uri": "https://localhost:8080/",
          "height": 357
        },
        "id": "_R4ZA-STnUOi",
        "outputId": "4eb943e7-75e5-471c-cffc-f8ca3aa1dfae"
      },
      "source": [
        "tw_list[['polarity', 'subjectivity']] = tw_list['text'].apply(lambda Text: pd.Series(TextBlob(Text).sentiment))\n",
        "for index, row in tw_list['text'].iteritems():\n",
        " score = SentimentIntensityAnalyzer().polarity_scores(row)\n",
        " neg = score['neg']\n",
        " neu = score['neu']\n",
        " pos = score['pos']\n",
        " comp = score['compound']\n",
        "\n",
        " if neg > pos:\n",
        "   tw_list.loc[index, 'sentiment'] = \"negative\"\n",
        " elif pos > neg:\n",
        "   tw_list.loc[index, 'sentiment'] = \"positive\"\n",
        " else:\n",
        "   tw_list.loc[index, 'sentiment'] = \"neutral\"\n",
        "   tw_list.loc[index, 'neg'] = neg\n",
        "   tw_list.loc[index, 'neu'] = neu\n",
        "   tw_list.loc[index, 'pos'] = pos\n",
        "   tw_list.loc[index, 'compound'] = comp\n",
        "tw_list.head(10)"
      ],
      "execution_count": 10,
      "outputs": [
        {
          "output_type": "execute_result",
          "data": {
            "text/html": [
              "<div>\n",
              "<style scoped>\n",
              "    .dataframe tbody tr th:only-of-type {\n",
              "        vertical-align: middle;\n",
              "    }\n",
              "\n",
              "    .dataframe tbody tr th {\n",
              "        vertical-align: top;\n",
              "    }\n",
              "\n",
              "    .dataframe thead th {\n",
              "        text-align: right;\n",
              "    }\n",
              "</style>\n",
              "<table border=\"1\" class=\"dataframe\">\n",
              "  <thead>\n",
              "    <tr style=\"text-align: right;\">\n",
              "      <th></th>\n",
              "      <th>0</th>\n",
              "      <th>text</th>\n",
              "      <th>polarity</th>\n",
              "      <th>subjectivity</th>\n",
              "      <th>sentiment</th>\n",
              "      <th>neg</th>\n",
              "      <th>neu</th>\n",
              "      <th>pos</th>\n",
              "      <th>compound</th>\n",
              "    </tr>\n",
              "  </thead>\n",
              "  <tbody>\n",
              "    <tr>\n",
              "      <th>0</th>\n",
              "      <td>RT @jimintoday__: [Teaser] BTS X 서울 E-프리 2022 ...</td>\n",
              "      <td>[      ]       서울   프리 2022 (             202...</td>\n",
              "      <td>0.0</td>\n",
              "      <td>0.0</td>\n",
              "      <td>neutral</td>\n",
              "      <td>0.0</td>\n",
              "      <td>1.0</td>\n",
              "      <td>0.0</td>\n",
              "      <td>0.0</td>\n",
              "    </tr>\n",
              "    <tr>\n",
              "      <th>1</th>\n",
              "      <td>RT @charts_k: [Teaser] #BTS X 서울 E-프리 2022 (SE...</td>\n",
              "      <td>[      ] #      서울   프리 2022 (             20...</td>\n",
              "      <td>0.0</td>\n",
              "      <td>0.0</td>\n",
              "      <td>neutral</td>\n",
              "      <td>0.0</td>\n",
              "      <td>1.0</td>\n",
              "      <td>0.0</td>\n",
              "      <td>0.0</td>\n",
              "    </tr>\n",
              "    <tr>\n",
              "      <th>2</th>\n",
              "      <td>RT @BRILLER__613: [Teaser] BTS X 서울 E-프리 2022 ...</td>\n",
              "      <td>[      ]       서울   프리 2022 (             202...</td>\n",
              "      <td>0.0</td>\n",
              "      <td>0.0</td>\n",
              "      <td>neutral</td>\n",
              "      <td>0.0</td>\n",
              "      <td>1.0</td>\n",
              "      <td>0.0</td>\n",
              "      <td>0.0</td>\n",
              "    </tr>\n",
              "    <tr>\n",
              "      <th>3</th>\n",
              "      <td>RT @Army_Connect: We crossed 10K total orders🥳...</td>\n",
              "      <td>10              🥳🎉🥳\\n\\n⏰∼2        ...</td>\n",
              "      <td>0.0</td>\n",
              "      <td>0.0</td>\n",
              "      <td>neutral</td>\n",
              "      <td>0.0</td>\n",
              "      <td>1.0</td>\n",
              "      <td>0.0</td>\n",
              "      <td>0.0</td>\n",
              "    </tr>\n",
              "    <tr>\n",
              "      <th>4</th>\n",
              "      <td>RT @PJM_data: Emmy Award Winning Comedian John...</td>\n",
              "      <td>,     ...</td>\n",
              "      <td>0.0</td>\n",
              "      <td>0.0</td>\n",
              "      <td>neutral</td>\n",
              "      <td>0.0</td>\n",
              "      <td>0.0</td>\n",
              "      <td>0.0</td>\n",
              "      <td>0.0</td>\n",
              "    </tr>\n",
              "    <tr>\n",
              "      <th>5</th>\n",
              "      <td>RT @ARMYTEAMIID: [🎥]\\n\\nBTS x SMASH APP\\n#방탄소년...</td>\n",
              "      <td>[🎥]\\n\\n               \\n#방탄소년단 #     _       ...</td>\n",
              "      <td>0.0</td>\n",
              "      <td>0.0</td>\n",
              "      <td>neutral</td>\n",
              "      <td>0.0</td>\n",
              "      <td>1.0</td>\n",
              "      <td>0.0</td>\n",
              "      <td>0.0</td>\n",
              "    </tr>\n",
              "    <tr>\n",
              "      <th>6</th>\n",
              "      <td>RT @bts_bighit: Are you all excited for #BTS_B...</td>\n",
              "      <td>#   _                ...</td>\n",
              "      <td>0.0</td>\n",
              "      <td>0.0</td>\n",
              "      <td>neutral</td>\n",
              "      <td>0.0</td>\n",
              "      <td>1.0</td>\n",
              "      <td>0.0</td>\n",
              "      <td>0.0</td>\n",
              "    </tr>\n",
              "    <tr>\n",
              "      <th>7</th>\n",
              "      <td>RT @allangyi: 달다구리솜 @_thal_0 님카페 놀러왔어요^^ \\n예쁜 ...</td>\n",
              "      <td>달다구리솜 @_    _0 님카페 놀러왔어요^^ \\n예쁜 컵홀더랑 선물도 받고 귀...</td>\n",
              "      <td>0.0</td>\n",
              "      <td>0.0</td>\n",
              "      <td>neutral</td>\n",
              "      <td>0.0</td>\n",
              "      <td>1.0</td>\n",
              "      <td>0.0</td>\n",
              "      <td>0.0</td>\n",
              "    </tr>\n",
              "    <tr>\n",
              "      <th>8</th>\n",
              "      <td>RT @bts_nanak: SONGS 방탄 멘트\\n#방탄소년단 #BTS @BTS_t...</td>\n",
              "      <td>방탄 멘트\\n#방탄소년단 #     _         :// .  / ...</td>\n",
              "      <td>0.0</td>\n",
              "      <td>0.0</td>\n",
              "      <td>neutral</td>\n",
              "      <td>0.0</td>\n",
              "      <td>1.0</td>\n",
              "      <td>0.0</td>\n",
              "      <td>0.0</td>\n",
              "    </tr>\n",
              "    <tr>\n",
              "      <th>9</th>\n",
              "      <td>RT @sunflowercharts: ✅ 364.76 ล้านวิว\\n\\nเป้าห...</td>\n",
              "      <td>✅ 364.76 ล้านวิว\\n\\nเป้าหมายต่อไป: 400 ล้านวิ...</td>\n",
              "      <td>0.0</td>\n",
              "      <td>0.0</td>\n",
              "      <td>neutral</td>\n",
              "      <td>0.0</td>\n",
              "      <td>1.0</td>\n",
              "      <td>0.0</td>\n",
              "      <td>0.0</td>\n",
              "    </tr>\n",
              "  </tbody>\n",
              "</table>\n",
              "</div>"
            ],
            "text/plain": [
              "                                                   0  ... compound\n",
              "0  RT @jimintoday__: [Teaser] BTS X 서울 E-프리 2022 ...  ...      0.0\n",
              "1  RT @charts_k: [Teaser] #BTS X 서울 E-프리 2022 (SE...  ...      0.0\n",
              "2  RT @BRILLER__613: [Teaser] BTS X 서울 E-프리 2022 ...  ...      0.0\n",
              "3  RT @Army_Connect: We crossed 10K total orders🥳...  ...      0.0\n",
              "4  RT @PJM_data: Emmy Award Winning Comedian John...  ...      0.0\n",
              "5  RT @ARMYTEAMIID: [🎥]\\n\\nBTS x SMASH APP\\n#방탄소년...  ...      0.0\n",
              "6  RT @bts_bighit: Are you all excited for #BTS_B...  ...      0.0\n",
              "7  RT @allangyi: 달다구리솜 @_thal_0 님카페 놀러왔어요^^ \\n예쁜 ...  ...      0.0\n",
              "8  RT @bts_nanak: SONGS 방탄 멘트\\n#방탄소년단 #BTS @BTS_t...  ...      0.0\n",
              "9  RT @sunflowercharts: ✅ 364.76 ล้านวิว\\n\\nเป้าห...  ...      0.0\n",
              "\n",
              "[10 rows x 9 columns]"
            ]
          },
          "metadata": {
            "tags": []
          },
          "execution_count": 10
        }
      ]
    },
    {
      "cell_type": "markdown",
      "metadata": {
        "id": "f-UhxlEIpWHJ"
      },
      "source": [
        "\n",
        "\n",
        "> Spliting data frame into 3 groups for all sentiments (positive, negative and neutral)\n",
        "\n"
      ]
    },
    {
      "cell_type": "code",
      "metadata": {
        "id": "XHfWOZMlnUL3"
      },
      "source": [
        "tw_list_negative = tw_list[tw_list[\"sentiment\"]==\"negative\"]\n",
        "tw_list_positive = tw_list[tw_list[\"sentiment\"]==\"positive\"]\n",
        "tw_list_neutral = tw_list[tw_list[\"sentiment\"]==\"neutral\"]"
      ],
      "execution_count": 11,
      "outputs": []
    },
    {
      "cell_type": "code",
      "metadata": {
        "colab": {
          "base_uri": "https://localhost:8080/",
          "height": 142
        },
        "id": "3jnk171gvQrC",
        "outputId": "f6af1505-0cf5-4ecb-97fc-56ce9efe08a7"
      },
      "source": [
        "def count_values_in_column(data,feature):\n",
        " total=data.loc[:,feature].value_counts(dropna=False)\n",
        " percentage=round(data.loc[:,feature].value_counts(dropna=False,normalize=True)*100,2)\n",
        " return pd.concat([total,percentage],axis=1,keys=['Total','Percentage'])\n",
        "\n",
        "#Count_values for sentiment\n",
        "count_values_in_column(tw_list,\"sentiment\")"
      ],
      "execution_count": 12,
      "outputs": [
        {
          "output_type": "execute_result",
          "data": {
            "text/html": [
              "<div>\n",
              "<style scoped>\n",
              "    .dataframe tbody tr th:only-of-type {\n",
              "        vertical-align: middle;\n",
              "    }\n",
              "\n",
              "    .dataframe tbody tr th {\n",
              "        vertical-align: top;\n",
              "    }\n",
              "\n",
              "    .dataframe thead th {\n",
              "        text-align: right;\n",
              "    }\n",
              "</style>\n",
              "<table border=\"1\" class=\"dataframe\">\n",
              "  <thead>\n",
              "    <tr style=\"text-align: right;\">\n",
              "      <th></th>\n",
              "      <th>Total</th>\n",
              "      <th>Percentage</th>\n",
              "    </tr>\n",
              "  </thead>\n",
              "  <tbody>\n",
              "    <tr>\n",
              "      <th>neutral</th>\n",
              "      <td>1388</td>\n",
              "      <td>99.21</td>\n",
              "    </tr>\n",
              "    <tr>\n",
              "      <th>positive</th>\n",
              "      <td>7</td>\n",
              "      <td>0.50</td>\n",
              "    </tr>\n",
              "    <tr>\n",
              "      <th>negative</th>\n",
              "      <td>4</td>\n",
              "      <td>0.29</td>\n",
              "    </tr>\n",
              "  </tbody>\n",
              "</table>\n",
              "</div>"
            ],
            "text/plain": [
              "          Total  Percentage\n",
              "neutral    1388       99.21\n",
              "positive      7        0.50\n",
              "negative      4        0.29"
            ]
          },
          "metadata": {
            "tags": []
          },
          "execution_count": 12
        }
      ]
    },
    {
      "cell_type": "markdown",
      "metadata": {
        "id": "kK8EjY9jqA90"
      },
      "source": [
        "\n",
        "\n",
        "> Pie Chart\n"
      ]
    },
    {
      "cell_type": "code",
      "metadata": {
        "colab": {
          "base_uri": "https://localhost:8080/",
          "height": 406
        },
        "id": "W4wFzSIKp6wM",
        "outputId": "6b8cc6bc-7940-49ff-dccb-a4438ce8c8ab"
      },
      "source": [
        "pichart = count_values_in_column(tw_list,\"sentiment\")\n",
        "names= pichart.index\n",
        "size=pichart[\"Percentage\"]\n",
        " \n",
        "\n",
        "my_circle=plt.Circle( (0,0), 0.7, color='white')\n",
        "plt.pie(size, labels=names, colors=['purple', 'yellow' ,'yellowgreen'])\n",
        "p=plt.gcf()\n",
        "p.gca().add_artist(my_circle)\n",
        "plt.show()"
      ],
      "execution_count": 13,
      "outputs": [
        {
          "output_type": "display_data",
          "data": {
            "image/png": "[encoded data removed]",
            "text/plain": [
              "<Figure size 640x480 with 1 Axes>"
            ]
          },
          "metadata": {
            "tags": []
          }
        }
      ]
    },
    {
      "cell_type": "markdown",
      "metadata": {
        "id": "7eaSlIZxJbLO"
      },
      "source": [
        "### Calculating the tweet length and word count to see the density of words and characters used in tweets based on different sentiments."
      ]
    },
    {
      "cell_type": "code",
      "metadata": {
        "id": "XFnAJ9WxtAxk",
        "colab": {
          "base_uri": "https://localhost:8080/",
          "height": 172
        },
        "outputId": "4b09853e-ffbd-40a4-f588-bc79b2e9a788"
      },
      "source": [
        "tw_list['text_len'] = tw_list['text'].astype(str).apply(len)\n",
        "tw_list['text_word_count'] = tw_list['text'].apply(lambda x: len(str(x).split()))\n",
        "round(pd.DataFrame(tw_list.groupby(\"sentiment\").text_len.mean()),2)"
      ],
      "execution_count": 14,
      "outputs": [
        {
          "output_type": "execute_result",
          "data": {
            "text/html": [
              "<div>\n",
              "<style scoped>\n",
              "    .dataframe tbody tr th:only-of-type {\n",
              "        vertical-align: middle;\n",
              "    }\n",
              "\n",
              "    .dataframe tbody tr th {\n",
              "        vertical-align: top;\n",
              "    }\n",
              "\n",
              "    .dataframe thead th {\n",
              "        text-align: right;\n",
              "    }\n",
              "</style>\n",
              "<table border=\"1\" class=\"dataframe\">\n",
              "  <thead>\n",
              "    <tr style=\"text-align: right;\">\n",
              "      <th></th>\n",
              "      <th>text_len</th>\n",
              "    </tr>\n",
              "    <tr>\n",
              "      <th>sentiment</th>\n",
              "      <th></th>\n",
              "    </tr>\n",
              "  </thead>\n",
              "  <tbody>\n",
              "    <tr>\n",
              "      <th>negative</th>\n",
              "      <td>75.00</td>\n",
              "    </tr>\n",
              "    <tr>\n",
              "      <th>neutral</th>\n",
              "      <td>92.90</td>\n",
              "    </tr>\n",
              "    <tr>\n",
              "      <th>positive</th>\n",
              "      <td>92.14</td>\n",
              "    </tr>\n",
              "  </tbody>\n",
              "</table>\n",
              "</div>"
            ],
            "text/plain": [
              "           text_len\n",
              "sentiment          \n",
              "negative      75.00\n",
              "neutral       92.90\n",
              "positive      92.14"
            ]
          },
          "metadata": {
            "tags": []
          },
          "execution_count": 14
        }
      ]
    },
    {
      "cell_type": "code",
      "metadata": {
        "id": "fVVShr7itAus",
        "colab": {
          "base_uri": "https://localhost:8080/",
          "height": 172
        },
        "outputId": "4112a691-3230-40d9-d63c-259f258fccea"
      },
      "source": [
        "round(pd.DataFrame(tw_list.groupby(\"sentiment\").text_word_count.mean()),2)"
      ],
      "execution_count": 15,
      "outputs": [
        {
          "output_type": "execute_result",
          "data": {
            "text/html": [
              "<div>\n",
              "<style scoped>\n",
              "    .dataframe tbody tr th:only-of-type {\n",
              "        vertical-align: middle;\n",
              "    }\n",
              "\n",
              "    .dataframe tbody tr th {\n",
              "        vertical-align: top;\n",
              "    }\n",
              "\n",
              "    .dataframe thead th {\n",
              "        text-align: right;\n",
              "    }\n",
              "</style>\n",
              "<table border=\"1\" class=\"dataframe\">\n",
              "  <thead>\n",
              "    <tr style=\"text-align: right;\">\n",
              "      <th></th>\n",
              "      <th>text_word_count</th>\n",
              "    </tr>\n",
              "    <tr>\n",
              "      <th>sentiment</th>\n",
              "      <th></th>\n",
              "    </tr>\n",
              "  </thead>\n",
              "  <tbody>\n",
              "    <tr>\n",
              "      <th>negative</th>\n",
              "      <td>4.00</td>\n",
              "    </tr>\n",
              "    <tr>\n",
              "      <th>neutral</th>\n",
              "      <td>9.59</td>\n",
              "    </tr>\n",
              "    <tr>\n",
              "      <th>positive</th>\n",
              "      <td>8.29</td>\n",
              "    </tr>\n",
              "  </tbody>\n",
              "</table>\n",
              "</div>"
            ],
            "text/plain": [
              "           text_word_count\n",
              "sentiment                 \n",
              "negative              4.00\n",
              "neutral               9.59\n",
              "positive              8.29"
            ]
          },
          "metadata": {
            "tags": []
          },
          "execution_count": 15
        }
      ]
    },
    {
      "cell_type": "markdown",
      "metadata": {
        "id": "-ZCizuqGCiLf"
      },
      "source": [
        "## Removing Punctuation and Stopwords and applying Tokenization"
      ]
    },
    {
      "cell_type": "code",
      "metadata": {
        "id": "XK4Cy5E2tAsF"
      },
      "source": [
        "#punctuation removal\n",
        "def remove_punct(text):\n",
        "    text  = \"\".join([char for char in text if char not in string.punctuation])\n",
        "    text = re.sub('[0-9]+', '', text)\n",
        "    return text\n",
        "\n",
        "tw_list['punct'] = tw_list['text'].apply(lambda x: remove_punct(x))\n",
        "\n",
        "\n",
        "#tokenization\n",
        "def tokenization(text):\n",
        "    text = re.split('\\W+', text)\n",
        "    return text\n",
        "\n",
        "tw_list['tokenized'] = tw_list['punct'].apply(lambda x: tokenization(x.lower()))\n",
        "\n",
        "\n",
        "#Stopwords Removal\n",
        "stopword = nltk.corpus.stopwords.words('english')\n",
        "def remove_stopwords(text):\n",
        "    text = [word for word in text if word not in stopword]\n",
        "    return text\n",
        "    \n",
        "tw_list['nonstop'] = tw_list['tokenized'].apply(lambda x: remove_stopwords(x))"
      ],
      "execution_count": 16,
      "outputs": []
    },
    {
      "cell_type": "markdown",
      "metadata": {
        "id": "-CZpEvajFB1m"
      },
      "source": [
        "## Applying stemmer to eliminate words that come from the same root"
      ]
    },
    {
      "cell_type": "code",
      "metadata": {
        "id": "VfcrEHWGFGK2"
      },
      "source": [
        "ps = nltk.PorterStemmer()\n",
        "\n",
        "def stemming(text):\n",
        "    text = [ps.stem(word) for word in text]\n",
        "    return text\n",
        "\n",
        "tw_list['stemmed'] = tw_list['nonstop'].apply(lambda x: stemming(x))"
      ],
      "execution_count": 17,
      "outputs": []
    },
    {
      "cell_type": "markdown",
      "metadata": {
        "id": "sLBmYq50DWQP"
      },
      "source": [
        "### Text Cleaning"
      ]
    },
    {
      "cell_type": "code",
      "metadata": {
        "id": "CnzL-jqVtApU"
      },
      "source": [
        "def clean_text(text):\n",
        "    text_lc = \"\".join([word.lower() for word in text if word not in string.punctuation]) # remove puntuation\n",
        "    text_rc = re.sub('[0-9]+', '', text_lc)\n",
        "    tokens = re.split('\\W+', text_rc)    # tokenization\n",
        "    text = [ps.stem(word) for word in tokens if word not in stopword]  # remove stopwords \n",
        "    return text"
      ],
      "execution_count": 18,
      "outputs": []
    },
    {
      "cell_type": "code",
      "metadata": {
        "id": "5B5cSTHFtAlt",
        "colab": {
          "base_uri": "https://localhost:8080/",
          "height": 304
        },
        "outputId": "dc089a7e-de89-40bb-c1a3-f08dcf1bbf7b"
      },
      "source": [
        "tw_list.head()"
      ],
      "execution_count": 19,
      "outputs": [
        {
          "output_type": "execute_result",
          "data": {
            "text/html": [
              "<div>\n",
              "<style scoped>\n",
              "    .dataframe tbody tr th:only-of-type {\n",
              "        vertical-align: middle;\n",
              "    }\n",
              "\n",
              "    .dataframe tbody tr th {\n",
              "        vertical-align: top;\n",
              "    }\n",
              "\n",
              "    .dataframe thead th {\n",
              "        text-align: right;\n",
              "    }\n",
              "</style>\n",
              "<table border=\"1\" class=\"dataframe\">\n",
              "  <thead>\n",
              "    <tr style=\"text-align: right;\">\n",
              "      <th></th>\n",
              "      <th>0</th>\n",
              "      <th>text</th>\n",
              "      <th>polarity</th>\n",
              "      <th>subjectivity</th>\n",
              "      <th>sentiment</th>\n",
              "      <th>neg</th>\n",
              "      <th>neu</th>\n",
              "      <th>pos</th>\n",
              "      <th>compound</th>\n",
              "      <th>text_len</th>\n",
              "      <th>text_word_count</th>\n",
              "      <th>punct</th>\n",
              "      <th>tokenized</th>\n",
              "      <th>nonstop</th>\n",
              "      <th>stemmed</th>\n",
              "    </tr>\n",
              "  </thead>\n",
              "  <tbody>\n",
              "    <tr>\n",
              "      <th>0</th>\n",
              "      <td>RT @jimintoday__: [Teaser] BTS X 서울 E-프리 2022 ...</td>\n",
              "      <td>[      ]       서울   프리 2022 (             202...</td>\n",
              "      <td>0.0</td>\n",
              "      <td>0.0</td>\n",
              "      <td>neutral</td>\n",
              "      <td>0.0</td>\n",
              "      <td>1.0</td>\n",
              "      <td>0.0</td>\n",
              "      <td>0.0</td>\n",
              "      <td>120</td>\n",
              "      <td>19</td>\n",
              "      <td>서울   프리                      \\n ...</td>\n",
              "      <td>[, 서울, 프리, 방탄소년단, ]</td>\n",
              "      <td>[, 서울, 프리, 방탄소년단, ]</td>\n",
              "      <td>[, 서울, 프리, 방탄소년단, ]</td>\n",
              "    </tr>\n",
              "    <tr>\n",
              "      <th>1</th>\n",
              "      <td>RT @charts_k: [Teaser] #BTS X 서울 E-프리 2022 (SE...</td>\n",
              "      <td>[      ] #      서울   프리 2022 (             20...</td>\n",
              "      <td>0.0</td>\n",
              "      <td>0.0</td>\n",
              "      <td>neutral</td>\n",
              "      <td>0.0</td>\n",
              "      <td>1.0</td>\n",
              "      <td>0.0</td>\n",
              "      <td>0.0</td>\n",
              "      <td>98</td>\n",
              "      <td>17</td>\n",
              "      <td>서울   프리               \\n\\n      ...</td>\n",
              "      <td>[, 서울, 프리, ]</td>\n",
              "      <td>[, 서울, 프리, ]</td>\n",
              "      <td>[, 서울, 프리, ]</td>\n",
              "    </tr>\n",
              "    <tr>\n",
              "      <th>2</th>\n",
              "      <td>RT @BRILLER__613: [Teaser] BTS X 서울 E-프리 2022 ...</td>\n",
              "      <td>[      ]       서울   프리 2022 (             202...</td>\n",
              "      <td>0.0</td>\n",
              "      <td>0.0</td>\n",
              "      <td>neutral</td>\n",
              "      <td>0.0</td>\n",
              "      <td>1.0</td>\n",
              "      <td>0.0</td>\n",
              "      <td>0.0</td>\n",
              "      <td>105</td>\n",
              "      <td>16</td>\n",
              "      <td>서울   프리                      \\n ...</td>\n",
              "      <td>[, 서울, 프리, ]</td>\n",
              "      <td>[, 서울, 프리, ]</td>\n",
              "      <td>[, 서울, 프리, ]</td>\n",
              "    </tr>\n",
              "    <tr>\n",
              "      <th>3</th>\n",
              "      <td>RT @Army_Connect: We crossed 10K total orders🥳...</td>\n",
              "      <td>10              🥳🎉🥳\\n\\n⏰∼2        ...</td>\n",
              "      <td>0.0</td>\n",
              "      <td>0.0</td>\n",
              "      <td>neutral</td>\n",
              "      <td>0.0</td>\n",
              "      <td>1.0</td>\n",
              "      <td>0.0</td>\n",
              "      <td>0.0</td>\n",
              "      <td>123</td>\n",
              "      <td>9</td>\n",
              "      <td>🥳🎉🥳\\n\\n⏰∼           ...</td>\n",
              "      <td>[, ]</td>\n",
              "      <td>[, ]</td>\n",
              "      <td>[, ]</td>\n",
              "    </tr>\n",
              "    <tr>\n",
              "      <th>4</th>\n",
              "      <td>RT @PJM_data: Emmy Award Winning Comedian John...</td>\n",
              "      <td>,     ...</td>\n",
              "      <td>0.0</td>\n",
              "      <td>0.0</td>\n",
              "      <td>neutral</td>\n",
              "      <td>0.0</td>\n",
              "      <td>0.0</td>\n",
              "      <td>0.0</td>\n",
              "      <td>0.0</td>\n",
              "      <td>127</td>\n",
              "      <td>6</td>\n",
              "      <td>...</td>\n",
              "      <td>[, ]</td>\n",
              "      <td>[, ]</td>\n",
              "      <td>[, ]</td>\n",
              "    </tr>\n",
              "  </tbody>\n",
              "</table>\n",
              "</div>"
            ],
            "text/plain": [
              "                                                   0  ...              stemmed\n",
              "0  RT @jimintoday__: [Teaser] BTS X 서울 E-프리 2022 ...  ...  [, 서울, 프리, 방탄소년단, ]\n",
              "1  RT @charts_k: [Teaser] #BTS X 서울 E-프리 2022 (SE...  ...         [, 서울, 프리, ]\n",
              "2  RT @BRILLER__613: [Teaser] BTS X 서울 E-프리 2022 ...  ...         [, 서울, 프리, ]\n",
              "3  RT @Army_Connect: We crossed 10K total orders🥳...  ...                 [, ]\n",
              "4  RT @PJM_data: Emmy Award Winning Comedian John...  ...                 [, ]\n",
              "\n",
              "[5 rows x 15 columns]"
            ]
          },
          "metadata": {
            "tags": []
          },
          "execution_count": 19
        }
      ]
    },
    {
      "cell_type": "code",
      "metadata": {
        "id": "GgRZlyz_nRqc"
      },
      "source": [
        ""
      ],
      "execution_count": null,
      "outputs": []
    }
  ]
}